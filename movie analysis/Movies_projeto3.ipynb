{
  "nbformat": 4,
  "nbformat_minor": 0,
  "metadata": {
    "colab": {
      "name": "Movies projeto3.ipynb",
      "provenance": [],
      "collapsed_sections": []
    },
    "kernelspec": {
      "name": "python3",
      "display_name": "Python 3"
    }
  },
  "cells": [
    {
      "cell_type": "code",
      "metadata": {
        "id": "eWybZolNpaqX"
      },
      "source": [
        "import matplotlib.pyplot as plt\n",
        "import pandas as pd\n"
      ],
      "execution_count": null,
      "outputs": []
    },
    {
      "cell_type": "code",
      "metadata": {
        "id": "rxaKZUVGqAFp",
        "outputId": "9740b6ab-ca10-4a0b-90a6-69514664ad99",
        "colab": {
          "base_uri": "https://localhost:8080/",
          "height": 660
        }
      },
      "source": [
        "path = 'https://github.com/alvinoc/movies-analysis/blob/main/analise%20movies/core_movie.csv?raw=true'\n",
        "movies = pd.read_csv(path,sep=',')\n",
        "movies.head()"
      ],
      "execution_count": null,
      "outputs": [
        {
          "output_type": "execute_result",
          "data": {
            "text/html": [
              "<div>\n",
              "<style scoped>\n",
              "    .dataframe tbody tr th:only-of-type {\n",
              "        vertical-align: middle;\n",
              "    }\n",
              "\n",
              "    .dataframe tbody tr th {\n",
              "        vertical-align: top;\n",
              "    }\n",
              "\n",
              "    .dataframe thead th {\n",
              "        text-align: right;\n",
              "    }\n",
              "</style>\n",
              "<table border=\"1\" class=\"dataframe\">\n",
              "  <thead>\n",
              "    <tr style=\"text-align: right;\">\n",
              "      <th></th>\n",
              "      <th>imdb_title_id</th>\n",
              "      <th>title</th>\n",
              "      <th>original_title</th>\n",
              "      <th>year</th>\n",
              "      <th>date_published</th>\n",
              "      <th>genre</th>\n",
              "      <th>duration</th>\n",
              "      <th>country</th>\n",
              "      <th>language</th>\n",
              "      <th>director</th>\n",
              "      <th>writer</th>\n",
              "      <th>production_company</th>\n",
              "      <th>actors</th>\n",
              "      <th>description</th>\n",
              "      <th>avg_vote</th>\n",
              "      <th>votes</th>\n",
              "      <th>budget</th>\n",
              "      <th>usa_gross_income</th>\n",
              "      <th>worldwide_gross_income</th>\n",
              "      <th>metascore</th>\n",
              "      <th>reviews_from_users</th>\n",
              "      <th>reviews_from_critics</th>\n",
              "    </tr>\n",
              "  </thead>\n",
              "  <tbody>\n",
              "    <tr>\n",
              "      <th>0</th>\n",
              "      <td>tt0012494</td>\n",
              "      <td>Der müde Tod</td>\n",
              "      <td>Der müde Tod</td>\n",
              "      <td>1921</td>\n",
              "      <td>2017-06-09</td>\n",
              "      <td>Drama, Fantasy, Thriller</td>\n",
              "      <td>97</td>\n",
              "      <td>Germany</td>\n",
              "      <td>German</td>\n",
              "      <td>Fritz Lang</td>\n",
              "      <td>Fritz Lang, Thea von Harbou</td>\n",
              "      <td>Decla-Bioscop AG</td>\n",
              "      <td>Bernhard Goetzke, Lil Dagover, Walter Janssen,...</td>\n",
              "      <td>When a woman's fiancé disappears, Death gives ...</td>\n",
              "      <td>7.7</td>\n",
              "      <td>4695</td>\n",
              "      <td>NaN</td>\n",
              "      <td>$ 12156</td>\n",
              "      <td>$ 12156</td>\n",
              "      <td>NaN</td>\n",
              "      <td>33.0</td>\n",
              "      <td>41.0</td>\n",
              "    </tr>\n",
              "    <tr>\n",
              "      <th>1</th>\n",
              "      <td>tt0013579</td>\n",
              "      <td>Schatten - Eine nächtliche Halluzination</td>\n",
              "      <td>Schatten - Eine nächtliche Halluzination</td>\n",
              "      <td>1923</td>\n",
              "      <td>2016-11-29</td>\n",
              "      <td>Drama, Fantasy, Horror</td>\n",
              "      <td>90</td>\n",
              "      <td>Germany</td>\n",
              "      <td>German</td>\n",
              "      <td>Arthur Robison</td>\n",
              "      <td>Arthur Robison, Rudolf Schneider</td>\n",
              "      <td>PAN Film</td>\n",
              "      <td>Alexander Granach, Max Gülstorff, Lilli Herder...</td>\n",
              "      <td>A wealthy man invites the local wealthy bachel...</td>\n",
              "      <td>6.9</td>\n",
              "      <td>787</td>\n",
              "      <td>NaN</td>\n",
              "      <td>NaN</td>\n",
              "      <td>NaN</td>\n",
              "      <td>NaN</td>\n",
              "      <td>15.0</td>\n",
              "      <td>16.0</td>\n",
              "    </tr>\n",
              "    <tr>\n",
              "      <th>2</th>\n",
              "      <td>tt0018054</td>\n",
              "      <td>The King of Kings</td>\n",
              "      <td>The King of Kings</td>\n",
              "      <td>1927</td>\n",
              "      <td>2004</td>\n",
              "      <td>Biography, Drama, History</td>\n",
              "      <td>155</td>\n",
              "      <td>USA</td>\n",
              "      <td>English</td>\n",
              "      <td>Cecil B. DeMille</td>\n",
              "      <td>Jeanie Macpherson</td>\n",
              "      <td>DeMille Pictures Corporation</td>\n",
              "      <td>H.B. Warner, Dorothy Cumming, Ernest Torrence,...</td>\n",
              "      <td>Jesus Christ faces religious and political opp...</td>\n",
              "      <td>7.3</td>\n",
              "      <td>1771</td>\n",
              "      <td>$ 2500000</td>\n",
              "      <td>NaN</td>\n",
              "      <td>NaN</td>\n",
              "      <td>NaN</td>\n",
              "      <td>46.0</td>\n",
              "      <td>23.0</td>\n",
              "    </tr>\n",
              "    <tr>\n",
              "      <th>3</th>\n",
              "      <td>tt0020286</td>\n",
              "      <td>Prapancha Pash</td>\n",
              "      <td>Prapancha Pash</td>\n",
              "      <td>1929</td>\n",
              "      <td>2007-09-04</td>\n",
              "      <td>Adventure, Drama, Romance</td>\n",
              "      <td>74</td>\n",
              "      <td>UK, India, Germany</td>\n",
              "      <td>English</td>\n",
              "      <td>Franz Osten</td>\n",
              "      <td>Niranjan Pal, W.A. Burton</td>\n",
              "      <td>British Instructional Films (BIF)</td>\n",
              "      <td>Seeta Devi, Himanshu Rai, Charu Roy, Modhu Bos...</td>\n",
              "      <td>Two neighboring Indian kingdoms are ruled by c...</td>\n",
              "      <td>6.5</td>\n",
              "      <td>640</td>\n",
              "      <td>NaN</td>\n",
              "      <td>NaN</td>\n",
              "      <td>$ 2306</td>\n",
              "      <td>NaN</td>\n",
              "      <td>8.0</td>\n",
              "      <td>14.0</td>\n",
              "    </tr>\n",
              "    <tr>\n",
              "      <th>4</th>\n",
              "      <td>tt0021331</td>\n",
              "      <td>Le sang d'un poète</td>\n",
              "      <td>Le sang d'un poète</td>\n",
              "      <td>1930</td>\n",
              "      <td>2010-05-20</td>\n",
              "      <td>Fantasy</td>\n",
              "      <td>55</td>\n",
              "      <td>France</td>\n",
              "      <td>French</td>\n",
              "      <td>Jean Cocteau</td>\n",
              "      <td>Jean Cocteau</td>\n",
              "      <td>Vicomte de Noailles</td>\n",
              "      <td>Enrique Rivero, Elizabeth Lee Miller, Pauline ...</td>\n",
              "      <td>A young artist draws a face at a canvas on his...</td>\n",
              "      <td>7.4</td>\n",
              "      <td>5310</td>\n",
              "      <td>NaN</td>\n",
              "      <td>NaN</td>\n",
              "      <td>NaN</td>\n",
              "      <td>NaN</td>\n",
              "      <td>31.0</td>\n",
              "      <td>44.0</td>\n",
              "    </tr>\n",
              "  </tbody>\n",
              "</table>\n",
              "</div>"
            ],
            "text/plain": [
              "  imdb_title_id  ... reviews_from_critics\n",
              "0     tt0012494  ...                 41.0\n",
              "1     tt0013579  ...                 16.0\n",
              "2     tt0018054  ...                 23.0\n",
              "3     tt0020286  ...                 14.0\n",
              "4     tt0021331  ...                 44.0\n",
              "\n",
              "[5 rows x 22 columns]"
            ]
          },
          "metadata": {
            "tags": []
          },
          "execution_count": 4
        }
      ]
    },
    {
      "cell_type": "markdown",
      "metadata": {
        "id": "6rny9CB3rJSw"
      },
      "source": [
        "**Analisando a duração dos filmes**"
      ]
    },
    {
      "cell_type": "code",
      "metadata": {
        "id": "mFpqNeg1q3cj",
        "outputId": "0ede351f-c5a0-496b-b4b3-1f7943e10eee",
        "colab": {
          "base_uri": "https://localhost:8080/",
          "height": 225
        }
      },
      "source": [
        "movies['duration'].value_counts()"
      ],
      "execution_count": null,
      "outputs": [
        {
          "output_type": "execute_result",
          "data": {
            "text/plain": [
              "90     2964\n",
              "100    1712\n",
              "95     1665\n",
              "93     1260\n",
              "85     1201\n",
              "       ... \n",
              "262       1\n",
              "230       1\n",
              "485       1\n",
              "345       1\n",
              "319       1\n",
              "Name: duration, Length: 203, dtype: int64"
            ]
          },
          "metadata": {
            "tags": []
          },
          "execution_count": 3
        }
      ]
    },
    {
      "cell_type": "markdown",
      "metadata": {
        "id": "5fiQpbFXuCsD"
      },
      "source": [
        "* Com isso conseguimos descobrir que a maioria dos filmes têm 90m(1h30m) de duração"
      ]
    },
    {
      "cell_type": "code",
      "metadata": {
        "id": "egdpzUfBrZVj",
        "outputId": "bc3c2a14-8a3d-4f5d-b0bd-c69afd24cbad",
        "colab": {
          "base_uri": "https://localhost:8080/",
          "height": 225
        }
      },
      "source": [
        "movies['duration'].value_counts().sort_index()"
      ],
      "execution_count": null,
      "outputs": [
        {
          "output_type": "execute_result",
          "data": {
            "text/plain": [
              "41       1\n",
              "42       1\n",
              "45      19\n",
              "46      11\n",
              "47      12\n",
              "        ..\n",
              "485      1\n",
              "540      3\n",
              "729      1\n",
              "808      1\n",
              "3360     1\n",
              "Name: duration, Length: 203, dtype: int64"
            ]
          },
          "metadata": {
            "tags": []
          },
          "execution_count": 5
        }
      ]
    },
    {
      "cell_type": "code",
      "metadata": {
        "id": "4XE0ZHhFuj9f"
      },
      "source": [
        "Ao chamar o método sort_index(), descobrimos algums extremos, como:\n",
        "* O filme de menor duração tem 41m\n",
        "* O filme de maior duração tem 3360m"
      ],
      "execution_count": null,
      "outputs": []
    },
    {
      "cell_type": "markdown",
      "metadata": {
        "id": "bL9LrLBcu6Oz"
      },
      "source": [
        "**Analisando os extremos**"
      ]
    },
    {
      "cell_type": "code",
      "metadata": {
        "id": "_HuJT-6erv-t",
        "outputId": "4e3bf109-eb73-47b5-803e-849fc3d4c3f4",
        "colab": {
          "base_uri": "https://localhost:8080/",
          "height": 170
        }
      },
      "source": [
        "movies.query(\"duration == 41\")"
      ],
      "execution_count": null,
      "outputs": [
        {
          "output_type": "execute_result",
          "data": {
            "text/html": [
              "<div>\n",
              "<style scoped>\n",
              "    .dataframe tbody tr th:only-of-type {\n",
              "        vertical-align: middle;\n",
              "    }\n",
              "\n",
              "    .dataframe tbody tr th {\n",
              "        vertical-align: top;\n",
              "    }\n",
              "\n",
              "    .dataframe thead th {\n",
              "        text-align: right;\n",
              "    }\n",
              "</style>\n",
              "<table border=\"1\" class=\"dataframe\">\n",
              "  <thead>\n",
              "    <tr style=\"text-align: right;\">\n",
              "      <th></th>\n",
              "      <th>imdb_title_id</th>\n",
              "      <th>title</th>\n",
              "      <th>original_title</th>\n",
              "      <th>year</th>\n",
              "      <th>date_published</th>\n",
              "      <th>genre</th>\n",
              "      <th>duration</th>\n",
              "      <th>country</th>\n",
              "      <th>language</th>\n",
              "      <th>director</th>\n",
              "      <th>writer</th>\n",
              "      <th>production_company</th>\n",
              "      <th>actors</th>\n",
              "      <th>description</th>\n",
              "      <th>avg_vote</th>\n",
              "      <th>votes</th>\n",
              "      <th>budget</th>\n",
              "      <th>usa_gross_income</th>\n",
              "      <th>worldwide_gross_income</th>\n",
              "      <th>metascore</th>\n",
              "      <th>reviews_from_users</th>\n",
              "      <th>reviews_from_critics</th>\n",
              "    </tr>\n",
              "  </thead>\n",
              "  <tbody>\n",
              "    <tr>\n",
              "      <th>14993</th>\n",
              "      <td>tt10682000</td>\n",
              "      <td>Sound &amp; Fury</td>\n",
              "      <td>Sound &amp; Fury</td>\n",
              "      <td>2019</td>\n",
              "      <td>2019-09-27</td>\n",
              "      <td>Animation</td>\n",
              "      <td>41</td>\n",
              "      <td>USA</td>\n",
              "      <td>NaN</td>\n",
              "      <td>Michael Arias, Jumpei Mizusaki</td>\n",
              "      <td>Jumpei Mizusaki, Sturgill Simpson</td>\n",
              "      <td>NaN</td>\n",
              "      <td>Chiyuki Kanazawa</td>\n",
              "      <td>A post-apocalyptic anime music film featuring ...</td>\n",
              "      <td>6.6</td>\n",
              "      <td>795</td>\n",
              "      <td>NaN</td>\n",
              "      <td>NaN</td>\n",
              "      <td>NaN</td>\n",
              "      <td>NaN</td>\n",
              "      <td>27.0</td>\n",
              "      <td>7.0</td>\n",
              "    </tr>\n",
              "  </tbody>\n",
              "</table>\n",
              "</div>"
            ],
            "text/plain": [
              "      imdb_title_id         title  ... reviews_from_users  reviews_from_critics\n",
              "14993    tt10682000  Sound & Fury  ...               27.0                   7.0\n",
              "\n",
              "[1 rows x 22 columns]"
            ]
          },
          "metadata": {
            "tags": []
          },
          "execution_count": 8
        }
      ]
    },
    {
      "cell_type": "markdown",
      "metadata": {
        "id": "ASOK6HG1I82v"
      },
      "source": [
        "* o metodo dataframe.query() funciona como uma consulta sql, onde dentro dos () podemos inserir consultas junto com operadores logicos"
      ]
    },
    {
      "cell_type": "code",
      "metadata": {
        "id": "ddWQ0GWZI-aw",
        "outputId": "c07eb889-928c-4a6c-b0ec-d42e8fa2d967",
        "colab": {
          "base_uri": "https://localhost:8080/",
          "height": 188
        }
      },
      "source": [
        "movies.query(\"duration == 3360\")"
      ],
      "execution_count": null,
      "outputs": [
        {
          "output_type": "execute_result",
          "data": {
            "text/html": [
              "<div>\n",
              "<style scoped>\n",
              "    .dataframe tbody tr th:only-of-type {\n",
              "        vertical-align: middle;\n",
              "    }\n",
              "\n",
              "    .dataframe tbody tr th {\n",
              "        vertical-align: top;\n",
              "    }\n",
              "\n",
              "    .dataframe thead th {\n",
              "        text-align: right;\n",
              "    }\n",
              "</style>\n",
              "<table border=\"1\" class=\"dataframe\">\n",
              "  <thead>\n",
              "    <tr style=\"text-align: right;\">\n",
              "      <th></th>\n",
              "      <th>imdb_title_id</th>\n",
              "      <th>title</th>\n",
              "      <th>original_title</th>\n",
              "      <th>year</th>\n",
              "      <th>date_published</th>\n",
              "      <th>genre</th>\n",
              "      <th>duration</th>\n",
              "      <th>country</th>\n",
              "      <th>language</th>\n",
              "      <th>director</th>\n",
              "      <th>writer</th>\n",
              "      <th>production_company</th>\n",
              "      <th>actors</th>\n",
              "      <th>description</th>\n",
              "      <th>avg_vote</th>\n",
              "      <th>votes</th>\n",
              "      <th>budget</th>\n",
              "      <th>usa_gross_income</th>\n",
              "      <th>worldwide_gross_income</th>\n",
              "      <th>metascore</th>\n",
              "      <th>reviews_from_users</th>\n",
              "      <th>reviews_from_critics</th>\n",
              "    </tr>\n",
              "  </thead>\n",
              "  <tbody>\n",
              "    <tr>\n",
              "      <th>24679</th>\n",
              "      <td>tt2008009</td>\n",
              "      <td>The Clock</td>\n",
              "      <td>The Clock</td>\n",
              "      <td>2010</td>\n",
              "      <td>2010-10-15</td>\n",
              "      <td>Drama</td>\n",
              "      <td>3360</td>\n",
              "      <td>UK</td>\n",
              "      <td>English</td>\n",
              "      <td>Christian Marclay</td>\n",
              "      <td>Christian Marclay</td>\n",
              "      <td>NaN</td>\n",
              "      <td>Rosanna Arquette, Bette Davis, Leonardo DiCapr...</td>\n",
              "      <td>Scenes from various films and TV programs that...</td>\n",
              "      <td>8.8</td>\n",
              "      <td>230</td>\n",
              "      <td>NaN</td>\n",
              "      <td>NaN</td>\n",
              "      <td>NaN</td>\n",
              "      <td>NaN</td>\n",
              "      <td>4.0</td>\n",
              "      <td>NaN</td>\n",
              "    </tr>\n",
              "  </tbody>\n",
              "</table>\n",
              "</div>"
            ],
            "text/plain": [
              "      imdb_title_id      title  ... reviews_from_users  reviews_from_critics\n",
              "24679     tt2008009  The Clock  ...                4.0                   NaN\n",
              "\n",
              "[1 rows x 22 columns]"
            ]
          },
          "metadata": {
            "tags": []
          },
          "execution_count": 5
        }
      ]
    },
    {
      "cell_type": "markdown",
      "metadata": {
        "id": "bD2BMHIuJNI9"
      },
      "source": [
        "* Obs:\n",
        "  * achei estranho um filme com duração de 3360m (56h) e fui pesquisar. Esse filme possui 1440m de duração (24h), oq mostra que esse df possui algumas divergências"
      ]
    },
    {
      "cell_type": "code",
      "metadata": {
        "id": "Lj7PWzH7ZUmZ",
        "outputId": "f0d2d98d-747c-4b00-8373-ace715dd9ea7",
        "colab": {
          "base_uri": "https://localhost:8080/",
          "height": 225
        }
      },
      "source": [
        "movies[\"avg_vote\"].value_counts().sort_index()"
      ],
      "execution_count": null,
      "outputs": [
        {
          "output_type": "execute_result",
          "data": {
            "text/plain": [
              "1.0     17\n",
              "1.1     14\n",
              "1.2     20\n",
              "1.3     13\n",
              "1.4     26\n",
              "        ..\n",
              "9.5      3\n",
              "9.6      2\n",
              "9.7      1\n",
              "9.8      1\n",
              "10.0     2\n",
              "Name: avg_vote, Length: 90, dtype: int64"
            ]
          },
          "metadata": {
            "tags": []
          },
          "execution_count": 6
        }
      ]
    },
    {
      "cell_type": "code",
      "metadata": {
        "id": "xSIjFW2xZ3yU",
        "outputId": "05d9f1fb-989d-4b13-ff23-9ec8cc586dc3",
        "colab": {
          "base_uri": "https://localhost:8080/",
          "height": 341
        }
      },
      "source": [
        "#Filmes com média 10\n",
        "movies.query(\"avg_vote == 10\")"
      ],
      "execution_count": null,
      "outputs": [
        {
          "output_type": "execute_result",
          "data": {
            "text/html": [
              "<div>\n",
              "<style scoped>\n",
              "    .dataframe tbody tr th:only-of-type {\n",
              "        vertical-align: middle;\n",
              "    }\n",
              "\n",
              "    .dataframe tbody tr th {\n",
              "        vertical-align: top;\n",
              "    }\n",
              "\n",
              "    .dataframe thead th {\n",
              "        text-align: right;\n",
              "    }\n",
              "</style>\n",
              "<table border=\"1\" class=\"dataframe\">\n",
              "  <thead>\n",
              "    <tr style=\"text-align: right;\">\n",
              "      <th></th>\n",
              "      <th>imdb_title_id</th>\n",
              "      <th>title</th>\n",
              "      <th>original_title</th>\n",
              "      <th>year</th>\n",
              "      <th>date_published</th>\n",
              "      <th>genre</th>\n",
              "      <th>duration</th>\n",
              "      <th>country</th>\n",
              "      <th>language</th>\n",
              "      <th>director</th>\n",
              "      <th>writer</th>\n",
              "      <th>production_company</th>\n",
              "      <th>actors</th>\n",
              "      <th>description</th>\n",
              "      <th>avg_vote</th>\n",
              "      <th>votes</th>\n",
              "      <th>budget</th>\n",
              "      <th>usa_gross_income</th>\n",
              "      <th>worldwide_gross_income</th>\n",
              "      <th>metascore</th>\n",
              "      <th>reviews_from_users</th>\n",
              "      <th>reviews_from_critics</th>\n",
              "    </tr>\n",
              "  </thead>\n",
              "  <tbody>\n",
              "    <tr>\n",
              "      <th>15313</th>\n",
              "      <td>tt10914342</td>\n",
              "      <td>Kirket</td>\n",
              "      <td>Kirket</td>\n",
              "      <td>2019</td>\n",
              "      <td>2019-10-18</td>\n",
              "      <td>Drama, Sport</td>\n",
              "      <td>132</td>\n",
              "      <td>India</td>\n",
              "      <td>Hindi</td>\n",
              "      <td>Yogendra Singh</td>\n",
              "      <td>Vishal Vijay Kumar</td>\n",
              "      <td>A square productions</td>\n",
              "      <td>Kirti Azad, Sonam Chhabra, Sonu Jha, Jai Kumar...</td>\n",
              "      <td>The story of how one man, single-handedly chan...</td>\n",
              "      <td>10.0</td>\n",
              "      <td>587</td>\n",
              "      <td>NaN</td>\n",
              "      <td>NaN</td>\n",
              "      <td>NaN</td>\n",
              "      <td>NaN</td>\n",
              "      <td>11.0</td>\n",
              "      <td>NaN</td>\n",
              "    </tr>\n",
              "    <tr>\n",
              "      <th>40971</th>\n",
              "      <td>tt6735740</td>\n",
              "      <td>Love in Kilnerry</td>\n",
              "      <td>Love in Kilnerry</td>\n",
              "      <td>2019</td>\n",
              "      <td>2019-06-23</td>\n",
              "      <td>Comedy</td>\n",
              "      <td>100</td>\n",
              "      <td>USA</td>\n",
              "      <td>English</td>\n",
              "      <td>Daniel Keith, Snorri Sturluson</td>\n",
              "      <td>Daniel Keith</td>\n",
              "      <td>Archway Pictures</td>\n",
              "      <td>Daniel Keith, Kathy Searle, Tony Triano, James...</td>\n",
              "      <td>The elderly resident of a small remote town pa...</td>\n",
              "      <td>10.0</td>\n",
              "      <td>2360</td>\n",
              "      <td>$ 1200000</td>\n",
              "      <td>NaN</td>\n",
              "      <td>NaN</td>\n",
              "      <td>NaN</td>\n",
              "      <td>6.0</td>\n",
              "      <td>10.0</td>\n",
              "    </tr>\n",
              "  </tbody>\n",
              "</table>\n",
              "</div>"
            ],
            "text/plain": [
              "      imdb_title_id             title  ... reviews_from_users  reviews_from_critics\n",
              "15313    tt10914342            Kirket  ...               11.0                   NaN\n",
              "40971     tt6735740  Love in Kilnerry  ...                6.0                  10.0\n",
              "\n",
              "[2 rows x 22 columns]"
            ]
          },
          "metadata": {
            "tags": []
          },
          "execution_count": 8
        }
      ]
    },
    {
      "cell_type": "code",
      "metadata": {
        "id": "riEWBn_zev2o",
        "outputId": "2d0db624-6097-4ac2-f676-e846d3bcd046",
        "colab": {
          "base_uri": "https://localhost:8080/",
          "height": 1000
        }
      },
      "source": [
        "#Filmes com media 1\n",
        "movies.query(\"avg_vote == 1\")"
      ],
      "execution_count": null,
      "outputs": [
        {
          "output_type": "execute_result",
          "data": {
            "text/html": [
              "<div>\n",
              "<style scoped>\n",
              "    .dataframe tbody tr th:only-of-type {\n",
              "        vertical-align: middle;\n",
              "    }\n",
              "\n",
              "    .dataframe tbody tr th {\n",
              "        vertical-align: top;\n",
              "    }\n",
              "\n",
              "    .dataframe thead th {\n",
              "        text-align: right;\n",
              "    }\n",
              "</style>\n",
              "<table border=\"1\" class=\"dataframe\">\n",
              "  <thead>\n",
              "    <tr style=\"text-align: right;\">\n",
              "      <th></th>\n",
              "      <th>imdb_title_id</th>\n",
              "      <th>title</th>\n",
              "      <th>original_title</th>\n",
              "      <th>year</th>\n",
              "      <th>date_published</th>\n",
              "      <th>genre</th>\n",
              "      <th>duration</th>\n",
              "      <th>country</th>\n",
              "      <th>language</th>\n",
              "      <th>director</th>\n",
              "      <th>writer</th>\n",
              "      <th>production_company</th>\n",
              "      <th>actors</th>\n",
              "      <th>description</th>\n",
              "      <th>avg_vote</th>\n",
              "      <th>votes</th>\n",
              "      <th>budget</th>\n",
              "      <th>usa_gross_income</th>\n",
              "      <th>worldwide_gross_income</th>\n",
              "      <th>metascore</th>\n",
              "      <th>reviews_from_users</th>\n",
              "      <th>reviews_from_critics</th>\n",
              "    </tr>\n",
              "  </thead>\n",
              "  <tbody>\n",
              "    <tr>\n",
              "      <th>22560</th>\n",
              "      <td>tt1753912</td>\n",
              "      <td>Holnap történt - A nagy bulvárfilm</td>\n",
              "      <td>Holnap történt - A nagy bulvárfilm</td>\n",
              "      <td>2009</td>\n",
              "      <td>2009-02-04</td>\n",
              "      <td>Comedy, Mystery</td>\n",
              "      <td>82</td>\n",
              "      <td>Hungary</td>\n",
              "      <td>Hungarian</td>\n",
              "      <td>Tamás Gerencsér</td>\n",
              "      <td>NaN</td>\n",
              "      <td>NaN</td>\n",
              "      <td>Anett Fehér, Tamás Gerencsér, József Ihos, Kat...</td>\n",
              "      <td>A singing star get murdered, and the worlds mo...</td>\n",
              "      <td>1.0</td>\n",
              "      <td>790</td>\n",
              "      <td>HUF 50000000</td>\n",
              "      <td>NaN</td>\n",
              "      <td>NaN</td>\n",
              "      <td>NaN</td>\n",
              "      <td>1.0</td>\n",
              "      <td>NaN</td>\n",
              "    </tr>\n",
              "    <tr>\n",
              "      <th>25385</th>\n",
              "      <td>tt2100624</td>\n",
              "      <td>Seikai gûdo mooningu!!</td>\n",
              "      <td>Seikai gûdo mooningu!!</td>\n",
              "      <td>2010</td>\n",
              "      <td>2010</td>\n",
              "      <td>Comedy</td>\n",
              "      <td>81</td>\n",
              "      <td>Japan</td>\n",
              "      <td>Japanese</td>\n",
              "      <td>Satoru Hirohara</td>\n",
              "      <td>Satoru Hirohara</td>\n",
              "      <td>NaN</td>\n",
              "      <td>Miho Arai, Mitsunori Izumi, Shotaro Kaneyama, ...</td>\n",
              "      <td>NaN</td>\n",
              "      <td>1.0</td>\n",
              "      <td>376</td>\n",
              "      <td>NaN</td>\n",
              "      <td>NaN</td>\n",
              "      <td>NaN</td>\n",
              "      <td>NaN</td>\n",
              "      <td>NaN</td>\n",
              "      <td>2.0</td>\n",
              "    </tr>\n",
              "    <tr>\n",
              "      <th>30876</th>\n",
              "      <td>tt3185040</td>\n",
              "      <td>Ryûsei</td>\n",
              "      <td>Ryûsei</td>\n",
              "      <td>2013</td>\n",
              "      <td>2013-11-16</td>\n",
              "      <td>Drama, Family</td>\n",
              "      <td>78</td>\n",
              "      <td>Japan</td>\n",
              "      <td>Japanese</td>\n",
              "      <td>Kenji Tani</td>\n",
              "      <td>Midori Satô, Midori Satô</td>\n",
              "      <td>Rex Enterprises</td>\n",
              "      <td>Kaname Endô, Yûki Satô, Ryôma Baba, Haruka Koh...</td>\n",
              "      <td>What did the boys wish for that day? Twelve ye...</td>\n",
              "      <td>1.0</td>\n",
              "      <td>276</td>\n",
              "      <td>NaN</td>\n",
              "      <td>NaN</td>\n",
              "      <td>NaN</td>\n",
              "      <td>NaN</td>\n",
              "      <td>NaN</td>\n",
              "      <td>NaN</td>\n",
              "    </tr>\n",
              "    <tr>\n",
              "      <th>31007</th>\n",
              "      <td>tt3216288</td>\n",
              "      <td>One Night: Choice of Evil</td>\n",
              "      <td>One Night: Choice of Evil</td>\n",
              "      <td>2010</td>\n",
              "      <td>2010-10-15</td>\n",
              "      <td>Comedy, Drama, Romance</td>\n",
              "      <td>79</td>\n",
              "      <td>Taiwan</td>\n",
              "      <td>Min Nan, Mandarin</td>\n",
              "      <td>Tommy Yu</td>\n",
              "      <td>Tommy Yu</td>\n",
              "      <td>Leader Asia Pacific Creativity Center</td>\n",
              "      <td>Yukihiko Kageyama, Toyoharu Kitamura, Linda Li...</td>\n",
              "      <td>An unassuming valet looking for his lucky brea...</td>\n",
              "      <td>1.0</td>\n",
              "      <td>396</td>\n",
              "      <td>NaN</td>\n",
              "      <td>NaN</td>\n",
              "      <td>NaN</td>\n",
              "      <td>NaN</td>\n",
              "      <td>NaN</td>\n",
              "      <td>NaN</td>\n",
              "    </tr>\n",
              "    <tr>\n",
              "      <th>31166</th>\n",
              "      <td>tt3262718</td>\n",
              "      <td>Bai bai, marâno</td>\n",
              "      <td>Bai bai, marâno</td>\n",
              "      <td>2013</td>\n",
              "      <td>2013-07-08</td>\n",
              "      <td>Drama</td>\n",
              "      <td>114</td>\n",
              "      <td>Japan</td>\n",
              "      <td>Japanese</td>\n",
              "      <td>Yunsu Kim</td>\n",
              "      <td>Yunsu Kim</td>\n",
              "      <td>Tokyo University of the Arts</td>\n",
              "      <td>Yumiko Hara, Sujin Lee, Gyô Miyamoto, Shû Naka...</td>\n",
              "      <td>NaN</td>\n",
              "      <td>1.0</td>\n",
              "      <td>191</td>\n",
              "      <td>NaN</td>\n",
              "      <td>NaN</td>\n",
              "      <td>NaN</td>\n",
              "      <td>NaN</td>\n",
              "      <td>NaN</td>\n",
              "      <td>NaN</td>\n",
              "    </tr>\n",
              "    <tr>\n",
              "      <th>36248</th>\n",
              "      <td>tt4837074</td>\n",
              "      <td>Ritoru Kyouta no bouken</td>\n",
              "      <td>Ritoru Kyouta no bouken</td>\n",
              "      <td>2017</td>\n",
              "      <td>2017-04-01</td>\n",
              "      <td>Adventure</td>\n",
              "      <td>82</td>\n",
              "      <td>Japan</td>\n",
              "      <td>Japanese</td>\n",
              "      <td>Satsuki Okawa</td>\n",
              "      <td>Satsuki Okawa</td>\n",
              "      <td>Little Neon Films</td>\n",
              "      <td>Tao Tsuchiya, Misa Shimizu, Hidekazu Mashima, ...</td>\n",
              "      <td>NaN</td>\n",
              "      <td>1.0</td>\n",
              "      <td>143</td>\n",
              "      <td>NaN</td>\n",
              "      <td>NaN</td>\n",
              "      <td>NaN</td>\n",
              "      <td>NaN</td>\n",
              "      <td>NaN</td>\n",
              "      <td>NaN</td>\n",
              "    </tr>\n",
              "    <tr>\n",
              "      <th>36259</th>\n",
              "      <td>tt4839424</td>\n",
              "      <td>Qi che ren zong dong yuan</td>\n",
              "      <td>Qi che ren zong dong yuan</td>\n",
              "      <td>2015</td>\n",
              "      <td>2015-07-03</td>\n",
              "      <td>Animation, Adventure, Family</td>\n",
              "      <td>85</td>\n",
              "      <td>China</td>\n",
              "      <td>Mandarin</td>\n",
              "      <td>Jianrong Zhuo</td>\n",
              "      <td>NaN</td>\n",
              "      <td>Xiamen Lanhuoyan Film Animation Co.</td>\n",
              "      <td>Christopher Petrosian, Dawei Hu, Xinxuan Liu, ...</td>\n",
              "      <td>NaN</td>\n",
              "      <td>1.0</td>\n",
              "      <td>116</td>\n",
              "      <td>NaN</td>\n",
              "      <td>NaN</td>\n",
              "      <td>NaN</td>\n",
              "      <td>NaN</td>\n",
              "      <td>2.0</td>\n",
              "      <td>NaN</td>\n",
              "    </tr>\n",
              "    <tr>\n",
              "      <th>36548</th>\n",
              "      <td>tt4937514</td>\n",
              "      <td>A no dentou</td>\n",
              "      <td>A no dentou</td>\n",
              "      <td>2014</td>\n",
              "      <td>2014-03-01</td>\n",
              "      <td>Drama</td>\n",
              "      <td>53</td>\n",
              "      <td>Japan</td>\n",
              "      <td>Japanese</td>\n",
              "      <td>Keiko Tsuruoka</td>\n",
              "      <td>Keiko Tsuruoka</td>\n",
              "      <td>Tokyo University of the Arts</td>\n",
              "      <td>Suzuna Kinosuta, Mariko Kobayashi, Akaji Maro,...</td>\n",
              "      <td>NaN</td>\n",
              "      <td>1.0</td>\n",
              "      <td>341</td>\n",
              "      <td>NaN</td>\n",
              "      <td>NaN</td>\n",
              "      <td>NaN</td>\n",
              "      <td>NaN</td>\n",
              "      <td>NaN</td>\n",
              "      <td>NaN</td>\n",
              "    </tr>\n",
              "    <tr>\n",
              "      <th>36611</th>\n",
              "      <td>tt4954968</td>\n",
              "      <td>Suguru hi no yamaneko</td>\n",
              "      <td>Suguru hi no yamaneko</td>\n",
              "      <td>2015</td>\n",
              "      <td>2015-09-19</td>\n",
              "      <td>Drama</td>\n",
              "      <td>92</td>\n",
              "      <td>Japan</td>\n",
              "      <td>Japanese</td>\n",
              "      <td>Keiko Tsuruoka</td>\n",
              "      <td>Keiko Tsuruoka</td>\n",
              "      <td>Amuse</td>\n",
              "      <td>Tsuruko Hishinuma, Shôichi Ikeda, Yuki Izumisa...</td>\n",
              "      <td>NaN</td>\n",
              "      <td>1.0</td>\n",
              "      <td>364</td>\n",
              "      <td>NaN</td>\n",
              "      <td>NaN</td>\n",
              "      <td>NaN</td>\n",
              "      <td>NaN</td>\n",
              "      <td>NaN</td>\n",
              "      <td>NaN</td>\n",
              "    </tr>\n",
              "    <tr>\n",
              "      <th>36715</th>\n",
              "      <td>tt4986830</td>\n",
              "      <td>Pure Hearts: Into Chinese Showbiz</td>\n",
              "      <td>Pure Hearts: Into Chinese Showbiz</td>\n",
              "      <td>2015</td>\n",
              "      <td>2017-09-20</td>\n",
              "      <td>Comedy, Drama</td>\n",
              "      <td>96</td>\n",
              "      <td>China</td>\n",
              "      <td>Chinese</td>\n",
              "      <td>Zhifei Bi</td>\n",
              "      <td>Zhifei Bi</td>\n",
              "      <td>NaN</td>\n",
              "      <td>NaN</td>\n",
              "      <td>Pure Hearts: Into Chinese Showbiz is the maide...</td>\n",
              "      <td>1.0</td>\n",
              "      <td>476</td>\n",
              "      <td>NaN</td>\n",
              "      <td>NaN</td>\n",
              "      <td>$ 368543</td>\n",
              "      <td>NaN</td>\n",
              "      <td>16.0</td>\n",
              "      <td>NaN</td>\n",
              "    </tr>\n",
              "    <tr>\n",
              "      <th>36862</th>\n",
              "      <td>tt5044244</td>\n",
              "      <td>Ushikoku ni mairu</td>\n",
              "      <td>Ushikoku ni mairu</td>\n",
              "      <td>2015</td>\n",
              "      <td>2015-11-14</td>\n",
              "      <td>Action, Drama, Horror</td>\n",
              "      <td>98</td>\n",
              "      <td>Japan</td>\n",
              "      <td>Japanese</td>\n",
              "      <td>Naoyoshi Kawamatsu</td>\n",
              "      <td>Naoyoshi Kawamatsu, Naoyoshi Kawamatsu</td>\n",
              "      <td>Asia Pictures Entertainment (APE)</td>\n",
              "      <td>Kana Araki, Megumi Fujiki, Shinta Fujiwara, Ha...</td>\n",
              "      <td>One cold midnight, Kenji was riding on a bicyc...</td>\n",
              "      <td>1.0</td>\n",
              "      <td>337</td>\n",
              "      <td>NaN</td>\n",
              "      <td>NaN</td>\n",
              "      <td>NaN</td>\n",
              "      <td>NaN</td>\n",
              "      <td>1.0</td>\n",
              "      <td>NaN</td>\n",
              "    </tr>\n",
              "    <tr>\n",
              "      <th>37548</th>\n",
              "      <td>tt5277828</td>\n",
              "      <td>Death Forest 3</td>\n",
              "      <td>Death Forest 3</td>\n",
              "      <td>2015</td>\n",
              "      <td>2015-12-12</td>\n",
              "      <td>Horror</td>\n",
              "      <td>64</td>\n",
              "      <td>Japan</td>\n",
              "      <td>Japanese</td>\n",
              "      <td>Yasutake Torii</td>\n",
              "      <td>Satoru Okonogi, Yasutake Torii</td>\n",
              "      <td>Pal Entertainments Production</td>\n",
              "      <td>Hiroyuki Kajima, Daijiro Kawaoka, Mitsuki Kimi...</td>\n",
              "      <td>NaN</td>\n",
              "      <td>1.0</td>\n",
              "      <td>239</td>\n",
              "      <td>NaN</td>\n",
              "      <td>NaN</td>\n",
              "      <td>NaN</td>\n",
              "      <td>NaN</td>\n",
              "      <td>NaN</td>\n",
              "      <td>NaN</td>\n",
              "    </tr>\n",
              "    <tr>\n",
              "      <th>39058</th>\n",
              "      <td>tt5874352</td>\n",
              "      <td>Utsuroi no hyôhonbako</td>\n",
              "      <td>Utsuroi no hyôhonbako</td>\n",
              "      <td>2016</td>\n",
              "      <td>2016-10-29</td>\n",
              "      <td>Comedy</td>\n",
              "      <td>95</td>\n",
              "      <td>Japan</td>\n",
              "      <td>Japanese</td>\n",
              "      <td>Keiko Tsuruoka</td>\n",
              "      <td>Keiko Tsuruoka</td>\n",
              "      <td>NaN</td>\n",
              "      <td>Mone Sakuragi, Gen Ogawa, Moeru Akazome, Kôsuk...</td>\n",
              "      <td>NaN</td>\n",
              "      <td>1.0</td>\n",
              "      <td>175</td>\n",
              "      <td>NaN</td>\n",
              "      <td>NaN</td>\n",
              "      <td>NaN</td>\n",
              "      <td>NaN</td>\n",
              "      <td>NaN</td>\n",
              "      <td>NaN</td>\n",
              "    </tr>\n",
              "    <tr>\n",
              "      <th>39416</th>\n",
              "      <td>tt6010140</td>\n",
              "      <td>Desu foresuto kyofu no mori 5</td>\n",
              "      <td>Desu foresuto kyofu no mori 5</td>\n",
              "      <td>2016</td>\n",
              "      <td>2016-09-03</td>\n",
              "      <td>Horror</td>\n",
              "      <td>65</td>\n",
              "      <td>Japan</td>\n",
              "      <td>Japanese</td>\n",
              "      <td>Yôhei Fukuda, Yûwa Tanaka</td>\n",
              "      <td>Kazz, Yûwa Tanaka</td>\n",
              "      <td>Nihon Sky Way (NSW)</td>\n",
              "      <td>Eri Akiyama, Kôsuke Endô, Yui Fujimoto, Ginjir...</td>\n",
              "      <td>People begin to see the creepy white face mons...</td>\n",
              "      <td>1.0</td>\n",
              "      <td>201</td>\n",
              "      <td>NaN</td>\n",
              "      <td>NaN</td>\n",
              "      <td>NaN</td>\n",
              "      <td>NaN</td>\n",
              "      <td>NaN</td>\n",
              "      <td>NaN</td>\n",
              "    </tr>\n",
              "    <tr>\n",
              "      <th>39455</th>\n",
              "      <td>tt6021902</td>\n",
              "      <td>Death Forest 4</td>\n",
              "      <td>Death Forest 4</td>\n",
              "      <td>2016</td>\n",
              "      <td>2016-05-03</td>\n",
              "      <td>Horror</td>\n",
              "      <td>70</td>\n",
              "      <td>Japan</td>\n",
              "      <td>Japanese</td>\n",
              "      <td>Yasutake Torii</td>\n",
              "      <td>Kazz, Satoshi Okonogi</td>\n",
              "      <td>NaN</td>\n",
              "      <td>Cyborg Kaori, Daijiro Kawaoka</td>\n",
              "      <td>They took a bad turn when they took the short ...</td>\n",
              "      <td>1.0</td>\n",
              "      <td>201</td>\n",
              "      <td>NaN</td>\n",
              "      <td>NaN</td>\n",
              "      <td>NaN</td>\n",
              "      <td>NaN</td>\n",
              "      <td>NaN</td>\n",
              "      <td>NaN</td>\n",
              "    </tr>\n",
              "    <tr>\n",
              "      <th>41783</th>\n",
              "      <td>tt7221896</td>\n",
              "      <td>Cumali Ceber: Allah Seni Alsin</td>\n",
              "      <td>Cumali Ceber: Allah Seni Alsin</td>\n",
              "      <td>2017</td>\n",
              "      <td>2017-08-04</td>\n",
              "      <td>Comedy</td>\n",
              "      <td>100</td>\n",
              "      <td>Turkey</td>\n",
              "      <td>Turkish</td>\n",
              "      <td>Gökhan Gök</td>\n",
              "      <td>Cihan Berk Berkeban, Giray Demirel</td>\n",
              "      <td>Retropro</td>\n",
              "      <td>Halil Söyletmez, Doga Konakoglu, Emre Keskin, ...</td>\n",
              "      <td>Cumali Ceber goes to a vacation with his child...</td>\n",
              "      <td>1.0</td>\n",
              "      <td>37268</td>\n",
              "      <td>TRL 10000</td>\n",
              "      <td>NaN</td>\n",
              "      <td>$ 1415773</td>\n",
              "      <td>NaN</td>\n",
              "      <td>36.0</td>\n",
              "      <td>NaN</td>\n",
              "    </tr>\n",
              "    <tr>\n",
              "      <th>42828</th>\n",
              "      <td>tt7923374</td>\n",
              "      <td>Badang</td>\n",
              "      <td>Badang</td>\n",
              "      <td>2018</td>\n",
              "      <td>2018-02-15</td>\n",
              "      <td>Comedy, Fantasy</td>\n",
              "      <td>105</td>\n",
              "      <td>Malaysia</td>\n",
              "      <td>Malay</td>\n",
              "      <td>A. Razak Mohaideen</td>\n",
              "      <td>Azlan Syah, Azhari Mohd Zain</td>\n",
              "      <td>Fita Studios</td>\n",
              "      <td>Aliff Syukr, Fasha Sandha, Azhari Mohd Zain, F...</td>\n",
              "      <td>A male college student is often bullied by fri...</td>\n",
              "      <td>1.0</td>\n",
              "      <td>688</td>\n",
              "      <td>NaN</td>\n",
              "      <td>NaN</td>\n",
              "      <td>NaN</td>\n",
              "      <td>NaN</td>\n",
              "      <td>20.0</td>\n",
              "      <td>4.0</td>\n",
              "    </tr>\n",
              "  </tbody>\n",
              "</table>\n",
              "</div>"
            ],
            "text/plain": [
              "      imdb_title_id  ... reviews_from_critics\n",
              "22560     tt1753912  ...                  NaN\n",
              "25385     tt2100624  ...                  2.0\n",
              "30876     tt3185040  ...                  NaN\n",
              "31007     tt3216288  ...                  NaN\n",
              "31166     tt3262718  ...                  NaN\n",
              "36248     tt4837074  ...                  NaN\n",
              "36259     tt4839424  ...                  NaN\n",
              "36548     tt4937514  ...                  NaN\n",
              "36611     tt4954968  ...                  NaN\n",
              "36715     tt4986830  ...                  NaN\n",
              "36862     tt5044244  ...                  NaN\n",
              "37548     tt5277828  ...                  NaN\n",
              "39058     tt5874352  ...                  NaN\n",
              "39416     tt6010140  ...                  NaN\n",
              "39455     tt6021902  ...                  NaN\n",
              "41783     tt7221896  ...                  NaN\n",
              "42828     tt7923374  ...                  4.0\n",
              "\n",
              "[17 rows x 22 columns]"
            ]
          },
          "metadata": {
            "tags": []
          },
          "execution_count": 10
        }
      ]
    },
    {
      "cell_type": "code",
      "metadata": {
        "id": "oWZwKKy1fBUH",
        "outputId": "a3171be7-1cb4-47dd-b1c2-45ffaaf98ffe",
        "colab": {
          "base_uri": "https://localhost:8080/",
          "height": 139
        }
      },
      "source": [
        "movies.query(\"avg_vote == 1\")[\"country\"].value_counts()"
      ],
      "execution_count": null,
      "outputs": [
        {
          "output_type": "execute_result",
          "data": {
            "text/plain": [
              "Japan       11\n",
              "China        2\n",
              "Hungary      1\n",
              "Turkey       1\n",
              "Taiwan       1\n",
              "Malaysia     1\n",
              "Name: country, dtype: int64"
            ]
          },
          "metadata": {
            "tags": []
          },
          "execution_count": 13
        }
      ]
    },
    {
      "cell_type": "markdown",
      "metadata": {
        "id": "EvA1ih5OfXih"
      },
      "source": [
        "Um fato interessante é que dos 17 piores filmes avaliados (avg_vote ==1)\n",
        "\n",
        " o Japão é o pais com mais filmes. 11 no total(64%)."
      ]
    },
    {
      "cell_type": "code",
      "metadata": {
        "id": "fi2H9I-ihpn4",
        "outputId": "275f1111-4ff4-4d4c-e7ca-f229501d82a0",
        "colab": {
          "base_uri": "https://localhost:8080/",
          "height": 139
        }
      },
      "source": [
        "movies.query(\"avg_vote == 1\")[\"country\"].value_counts(normalize=True)"
      ],
      "execution_count": null,
      "outputs": [
        {
          "output_type": "execute_result",
          "data": {
            "text/plain": [
              "Japan       0.647059\n",
              "China       0.117647\n",
              "Hungary     0.058824\n",
              "Turkey      0.058824\n",
              "Taiwan      0.058824\n",
              "Malaysia    0.058824\n",
              "Name: country, dtype: float64"
            ]
          },
          "metadata": {
            "tags": []
          },
          "execution_count": 14
        }
      ]
    },
    {
      "cell_type": "code",
      "metadata": {
        "id": "hv63gKHWkFCn",
        "outputId": "0cff1d28-21ee-4b8d-eb93-40c39418c94b",
        "colab": {
          "base_uri": "https://localhost:8080/",
          "height": 225
        }
      },
      "source": [
        "movies['year'].value_counts()"
      ],
      "execution_count": null,
      "outputs": [
        {
          "output_type": "execute_result",
          "data": {
            "text/plain": [
              "2017    3106\n",
              "2016    3033\n",
              "2015    2903\n",
              "2018    2880\n",
              "2014    2851\n",
              "        ... \n",
              "1977       1\n",
              "1946       1\n",
              "1978       1\n",
              "1949       1\n",
              "1952       1\n",
              "Name: year, Length: 68, dtype: int64"
            ]
          },
          "metadata": {
            "tags": []
          },
          "execution_count": 19
        }
      ]
    },
    {
      "cell_type": "markdown",
      "metadata": {
        "id": "6mfYXSTflIU2"
      },
      "source": [
        "**Visualizando os dados acima com grafico de barras**"
      ]
    },
    {
      "cell_type": "code",
      "metadata": {
        "id": "Qmd8QbQOkceo",
        "outputId": "804c1889-7dfa-4782-a2e5-8b767c56cdf7",
        "colab": {
          "base_uri": "https://localhost:8080/",
          "height": 966
        }
      },
      "source": [
        "plt.title(\"crescimento dos filmes por ano ate 2019\")\n",
        "movies['year'].value_counts().plot.bar(figsize=(20,16))"
      ],
      "execution_count": null,
      "outputs": [
        {
          "output_type": "execute_result",
          "data": {
            "text/plain": [
              "<matplotlib.axes._subplots.AxesSubplot at 0x7fa5bd1eff28>"
            ]
          },
          "metadata": {
            "tags": []
          },
          "execution_count": 27
        },
        {
          "output_type": "display_data",
          "data": {
            "image/png": "[encoded data removed]",
            "text/plain": [
              "<Figure size 1440x1152 with 1 Axes>"
            ]
          },
          "metadata": {
            "tags": [],
            "needs_background": "light"
          }
        }
      ]
    },
    {
      "cell_type": "markdown",
      "metadata": {
        "id": "65OjNpLIlSpB"
      },
      "source": [
        "* No gráfico de barras fica mais facil de visualizar que a partir da decada de 2000 o numero de filmes produzidos aumentou exponencialmente"
      ]
    },
    {
      "cell_type": "code",
      "metadata": {
        "id": "9D0EDt3rsQG0"
      },
      "source": [
        "import seaborn as sns"
      ],
      "execution_count": null,
      "outputs": []
    },
    {
      "cell_type": "markdown",
      "metadata": {
        "id": "4XR5QUQwofX-"
      },
      "source": [
        "**Função para plotar o grafico de bloxplot**\n",
        "\n",
        "* Recebe uma coluna do df no eixo x (em formato de string)\n",
        "* Recebe uma coluna do df no eixo y (em formato de string)\n",
        "* o dataframe\n",
        "* e o titulo (em formato de string)"
      ]
    },
    {
      "cell_type": "code",
      "metadata": {
        "id": "-smJx4MO1RIu"
      },
      "source": [
        "def movie_boxplot(eixo_x, eixo_y, data_frame, titulo):\n",
        "  ordenacao = data_frame[eixo_x].unique()\n",
        "  ordenacao.sort()\n",
        "  plt.figure(figsize=(50,12))\n",
        "  sns.boxplot(x= eixo_x, y = eixo_y, data= data_frame, order = ordenacao )\n",
        "  plt.title(titulo)\n"
      ],
      "execution_count": null,
      "outputs": []
    },
    {
      "cell_type": "markdown",
      "metadata": {
        "id": "d7kdm0T1tL2M"
      },
      "source": [
        "**Analise dos gêneros do dataframe**"
      ]
    },
    {
      "cell_type": "code",
      "metadata": {
        "id": "-d3ZYXRZ2GOE",
        "outputId": "59c9251a-65c9-499a-c302-104bf09d3579",
        "colab": {
          "base_uri": "https://localhost:8080/",
          "height": 225
        }
      },
      "source": [
        "movies['genre'].value_counts().sort_index()"
      ],
      "execution_count": null,
      "outputs": [
        {
          "output_type": "execute_result",
          "data": {
            "text/plain": [
              "Action                          449\n",
              "Action, Adventure                59\n",
              "Action, Adventure, Biography     16\n",
              "Action, Adventure, Comedy       299\n",
              "Action, Adventure, Crime         75\n",
              "                               ... \n",
              "War                              19\n",
              "War, Action, Adventure            1\n",
              "War, Drama                        2\n",
              "War, Drama, Action                1\n",
              "Western                          52\n",
              "Name: genre, Length: 858, dtype: int64"
            ]
          },
          "metadata": {
            "tags": []
          },
          "execution_count": 46
        }
      ]
    },
    {
      "cell_type": "markdown",
      "metadata": {
        "id": "1WgZ8MblSKVc"
      },
      "source": [
        "* Como podemos ver, existem 858 generos, pois o df junta varios generos em um só filme, o que se torna inviável analisar visualmente"
      ]
    },
    {
      "cell_type": "code",
      "metadata": {
        "id": "e064SWirS-16",
        "outputId": "8d057398-b2d6-4ce1-fe61-be5f4897119c",
        "colab": {
          "base_uri": "https://localhost:8080/",
          "height": 225
        }
      },
      "source": [
        "movies['genre'].value_counts()"
      ],
      "execution_count": null,
      "outputs": [
        {
          "output_type": "execute_result",
          "data": {
            "text/plain": [
              "Drama                          7208\n",
              "Comedy                         3770\n",
              "Comedy, Drama                  2488\n",
              "Drama, Romance                 1720\n",
              "Comedy, Romance                1410\n",
              "                               ... \n",
              "Adventure, Crime, Mystery         1\n",
              "Drama, Comedy, Action             1\n",
              "Adventure, Thriller, Action       1\n",
              "Animation, Comedy, Mystery        1\n",
              "Animation, Horror, Thriller       1\n",
              "Name: genre, Length: 858, dtype: int64"
            ]
          },
          "metadata": {
            "tags": []
          },
          "execution_count": 54
        }
      ]
    },
    {
      "cell_type": "markdown",
      "metadata": {
        "id": "kKIhhur1TJ48"
      },
      "source": [
        "* Com isso, vamos analisar os principais generos, juntamente com os 5 que mais aparece no df (Drama, Comedy \"Comedy, Drama\", \"Drama,Romance\" e \"Comedy Romance\")"
      ]
    },
    {
      "cell_type": "markdown",
      "metadata": {
        "id": "qGwIZ-WAhXY9"
      },
      "source": [
        "* Vamos criar uma lista com os principais generos existentes, juntamente coms os 5 que mais aparecem no df.\n",
        "  * Pesquisar no df os filmes que se enquadram nessa lista\n",
        "  * criar um novo df com tais filmes para que a visualização fique mais clara \n"
      ]
    },
    {
      "cell_type": "code",
      "metadata": {
        "id": "YPHEdijwWfBH"
      },
      "source": [
        "principais_generos = [\"Action\", \"Drama\", \"Comedy\", \"Romance\", \"Adventure\", \"Thriller\", \"Horror\", \"War\", \"Western\", \"Comedy, Drama\", \"Drama, Romance\", \"Comedy, Romance\"]"
      ],
      "execution_count": null,
      "outputs": []
    },
    {
      "cell_type": "code",
      "metadata": {
        "id": "ZX9XBLPSa7Fa",
        "outputId": "3b7b0be9-5a74-492a-e71a-e468c3a25318",
        "colab": {
          "base_uri": "https://localhost:8080/",
          "height": 34
        }
      },
      "source": [
        "movies_principais_generos = movies[movies['genre'].isin(principais_generos)]\n",
        "movies_principais_generos.shape"
      ],
      "execution_count": null,
      "outputs": [
        {
          "output_type": "execute_result",
          "data": {
            "text/plain": [
              "(19729, 22)"
            ]
          },
          "metadata": {
            "tags": []
          },
          "execution_count": 85
        }
      ]
    },
    {
      "cell_type": "code",
      "metadata": {
        "id": "_OX8mv7XcBnd",
        "outputId": "517a9434-6cf5-4a97-b73b-371c993af8ba",
        "colab": {
          "base_uri": "https://localhost:8080/",
          "height": 243
        }
      },
      "source": [
        "movies_principais_generos['genre'].value_counts()"
      ],
      "execution_count": null,
      "outputs": [
        {
          "output_type": "execute_result",
          "data": {
            "text/plain": [
              "Drama              7208\n",
              "Comedy             3770\n",
              "Comedy, Drama      2488\n",
              "Drama, Romance     1720\n",
              "Comedy, Romance    1410\n",
              "Horror             1374\n",
              "Thriller            847\n",
              "Action              449\n",
              "Romance             336\n",
              "Adventure            56\n",
              "Western              52\n",
              "War                  19\n",
              "Name: genre, dtype: int64"
            ]
          },
          "metadata": {
            "tags": []
          },
          "execution_count": 70
        }
      ]
    },
    {
      "cell_type": "code",
      "metadata": {
        "id": "fFJNoYGibYXc",
        "outputId": "fd030a23-4772-4e50-e8b4-4c95b2396472",
        "colab": {
          "base_uri": "https://localhost:8080/",
          "height": 1000
        }
      },
      "source": [
        "movies_principais_generos['genre'].value_counts().plot.bar(figsize=(20,16))"
      ],
      "execution_count": null,
      "outputs": [
        {
          "output_type": "execute_result",
          "data": {
            "text/plain": [
              "<matplotlib.axes._subplots.AxesSubplot at 0x7fa593916208>"
            ]
          },
          "metadata": {
            "tags": []
          },
          "execution_count": 71
        },
        {
          "output_type": "display_data",
          "data": {
            "image/png": "[encoded data removed]",
            "text/plain": [
              "<Figure size 1440x1152 with 1 Axes>"
            ]
          },
          "metadata": {
            "tags": [],
            "needs_background": "light"
          }
        }
      ]
    },
    {
      "cell_type": "markdown",
      "metadata": {
        "id": "BBC7iEOkrQSL"
      },
      "source": [
        "**Explicando o boxplot**\n",
        "\n",
        "\n",
        "* O boxplot ou diagrama de caixa é uma ferramenta gráfica que permite visualizar a distribuição e valores discrepantes (outliers) dos dados, fornecendo assim um meio complementar para desenvolver uma perspectiva sobre o caráter dos dados. Além disso, o boxplot também é uma disposição gráfica comparativa.\n",
        "* Ele é formado por:\n",
        "  * outlier:\n",
        "    * Valores que  são atípicos, discrepantes, extremos\n",
        "    * Estão acima e/ou abaixo das caudas(max e min)\n",
        "\n",
        "  * Max e min:\n",
        "    * Valores que se distanciam da mediana em ate 1,5% (98,5% está dentro da box)\n",
        "    * Limite Superior = Terceiro Quartil + 1,5 * (Terceiro Quartil – Primeiro Quartil)\n",
        "    *  Limite Inferior = Primeiro Quartil – 1,5 * (Terceiro Quartil – Primeiro Quartil)\n",
        "\n",
        "  * Quartil:\n",
        "    * É dividido em 3 partes:\n",
        "      * Primeiro quartil(Percentil 25):\n",
        "        * É calculado pela seguinte formula: 25 * Tamanho da Amostra / 100\n",
        "        * Significa que pelo menos 25% dos dados estão entre o primeiro quartil e o segundo quartil\n",
        "      * Segundo quartil (Percentil 50):\n",
        "        * É também a mediana \n",
        "        * O segundo quartil equivale ao percentil 50, valor em que pelo menos 50% da amostra está acima dele e pelo menos 50% está abaixo.\n",
        "      * Terceiro quartil (percentil 75):\n",
        "        * Usa a mesma formula do primeiro quartil, mudando apenas o primeiro numero.\n",
        "    * O box é analisado da seguinte maneira:\n",
        "      * Quanto maior o tamanho do box, maior a dispersão dos dados observados\n",
        "      * Um conjunto de dados que tem uma distribuição simétrica, terá a linha da mediana no centro do retângulo. Quando a linha da mediana está próxima ao primeiro quartil, os dados são assimétricos positivos e quando a posição da linha da mediana é próxima ao terceiro quartil, os dados são assimétricos negativos. Vale ressaltar que a mediana é a medida de tendência central mais indicada quando os dados possuem distribuição assimétrica, uma vez que a média aritmética é influenciada pelos valores extremos.\n",
        "\n",
        "Fonte: https://operdata.com.br/blog/como-interpretar-um-boxplot/\n"
      ]
    },
    {
      "cell_type": "markdown",
      "metadata": {
        "id": "meh2NtoIknDl"
      },
      "source": [
        "**Analisando a media de votos por genero**"
      ]
    },
    {
      "cell_type": "code",
      "metadata": {
        "id": "7755wcA8dcJg",
        "outputId": "426a483e-f4b2-49cf-d428-e0545f812cd5",
        "colab": {
          "base_uri": "https://localhost:8080/",
          "height": 452
        }
      },
      "source": [
        "movie_boxplot(\"genre\",\"avg_vote\",movies_principais_generos, \"media de votos por genero\")"
      ],
      "execution_count": null,
      "outputs": [
        {
          "output_type": "display_data",
          "data": {
            "image/png": "[encoded data removed]",
            "text/plain": [
              "<Figure size 3600x864 with 1 Axes>"
            ]
          },
          "metadata": {
            "tags": [],
            "needs_background": "light"
          }
        }
      ]
    },
    {
      "cell_type": "markdown",
      "metadata": {
        "id": "oHYOnvLUxuBT"
      },
      "source": [
        "A partir desse grafico notamos que:\n",
        "* O genero drama é o que possui maior nota média e uma menor dispersão nas notas, apesar de que sua mediana encontra-se mais próximo do terceiro quartil.\n",
        "* Comédia é oq possui a maior nota, mesmo sendo um outlier\n",
        "* Horror apresenta as menores notas"
      ]
    },
    {
      "cell_type": "markdown",
      "metadata": {
        "id": "fj4ZICMIrM0A"
      },
      "source": [
        ""
      ]
    }
  ]
}